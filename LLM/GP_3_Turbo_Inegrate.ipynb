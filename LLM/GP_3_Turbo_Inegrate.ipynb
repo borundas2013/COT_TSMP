{
 "cells": [
  {
   "cell_type": "code",
   "execution_count": 24,
   "id": "2d8e18bd-b176-4324-a807-ee9ae8c63f0a",
   "metadata": {},
   "outputs": [],
   "source": [
    "# import json\n",
    "# import random\n",
    "\n",
    "# # Example Tg and Er values for generating predefined dataset\n",
    "# tg_values = [150, 200, 250, 300, 350, 400]\n",
    "# er_values = [50, 100, 150, 200]\n",
    "\n",
    "# # Example response templates\n",
    "# response_templates = [\n",
    "#     \"Okay, you want a TSMP which has Tg={tg} and Er={er}. We are trying to generate a new TSMP based on your input...\",\n",
    "#     \"Sure, you need a TSMP with Tg={tg} and Er={er}. We are creating a new polymer to match your specifications...\",\n",
    "#     \"Got it, you're looking for a TSMP with Tg={tg} and Er={er}. We're working on generating a suitable polymer for you...\",\n",
    "#     \"You need a TSMP with Tg={tg} and Er={er}. We are in the process of generating this polymer based on your requirements...\",\n",
    "#     \"Understood, you want a TSMP with Tg={tg} and Er={er}. We are now generating a polymer to meet these properties...\"\n",
    "# ]\n",
    "\n",
    "# # Example query templates\n",
    "# query_templates = [\n",
    "#     \"Please give me a possible TSMP with Tg={tg} and Er={er}.\",\n",
    "#     \"What polymer can I use if I need Tg around {tg} and Er of {er}?\",\n",
    "#     \"Suggest a TSMP with Tg={tg} and Er={er}.\",\n",
    "#     \"I need a polymer with a Tg of {tg} and Er of {er}.\",\n",
    "#     \"Can you suggest a polymer with Tg={tg} and Er={er}?\"\n",
    "# ]\n",
    "\n",
    "# # Generate the dataset\n",
    "# nlp_data = []\n",
    "\n",
    "# for _ in range(100):  # Generate 100 examples\n",
    "#     tg = random.choice(tg_values)\n",
    "#     er = random.choice(er_values)\n",
    "    \n",
    "#     query_template = random.choice(query_templates)\n",
    "#     query = query_template.format(tg=tg, er=er)\n",
    "    \n",
    "#     response_template = random.choice(response_templates)\n",
    "#     response = response_template.format(tg=tg, er=er)\n",
    "    \n",
    "#     nlp_data.append({\"Query\": query, \"Response\": response})\n",
    "\n",
    "# # Save to JSON file\n",
    "# with open('nlp_dataset.json', 'w') as f:\n",
    "#     json.dump(nlp_data, f, indent=4)\n",
    "\n",
    "# # Verify the dataset\n",
    "# for entry in nlp_data[:5]:  # Print only the first 5 entries for brevity\n",
    "#     print(entry)\n"
   ]
  },
  {
   "cell_type": "code",
   "execution_count": 45,
   "id": "7ee6a4dc-235e-4a69-a141-9f4b8b0da1bb",
   "metadata": {},
   "outputs": [],
   "source": [
    "# #pip install openai\n",
    "\n",
    "# import json\n",
    "\n",
    "# # Example data\n",
    "# nlp_data = [\n",
    "#     {\n",
    "#         \"prompt\": \"Please give me a possible TSMP with Tg=350 and Er=150.\",\n",
    "#         \"completion\": \"Okay, you want a TSMP which has Tg=350 and Er=150. We are trying to generate a new TSMP based on your input...\"\n",
    "#     },\n",
    "#     {\n",
    "#         \"prompt\": \"Suggest a TSMP with Tg=300 and Er=100.\",\n",
    "#         \"completion\": \"Sure, you need a TSMP with Tg=300 and Er=100. We are creating a new polymer to match your specifications...\"\n",
    "#     }\n",
    "#     # Add more examples as needed\n",
    "# ]\n",
    "\n",
    "# # Save to JSONL file\n",
    "# with open('fine_tune_data.jsonl', 'w') as f:\n",
    "#     for entry in nlp_data:\n",
    "#         json.dump(entry, f)\n",
    "#         f.write('\\n')\n"
   ]
  },
  {
   "cell_type": "code",
   "execution_count": 25,
   "id": "18cab1f8-384f-4f30-872d-cedb7996d195",
   "metadata": {},
   "outputs": [
    {
     "name": "stdout",
     "output_type": "stream",
     "text": [
      "You need a TSMP with Tg=375 and Er=180. We are in the process of generating this polymer based on your requirements...\n"
     ]
    }
   ],
   "source": [
    "# import openai\n",
    "# import random\n",
    "\n",
    "# #openai.api_key = 'sk-xda15eTImv62SYVb1eXw_2lOEvH7oRfCUFadCTgoEjT3BlbkFJHHPrtTsKyGtST8dcRBU3BZBSvcrW06fHTy9UP2wbMA'\n",
    "\n",
    "# # Function to handle dynamic user inputs\n",
    "# def process_dynamic_query(tg, er):\n",
    "#     response_templates = [\n",
    "#         \"Okay, you want a TSMP which has Tg={tg} and Er={er}. We are trying to generate a new TSMP based on your input...\",\n",
    "#         \"Sure, you need a TSMP with Tg={tg} and Er={er}. We are creating a new polymer to match your specifications...\",\n",
    "#         \"Got it, you're looking for a TSMP with Tg={tg} and Er={er}. We're working on generating a suitable polymer for you...\",\n",
    "#         \"You need a TSMP with Tg={tg} and Er={er}. We are in the process of generating this polymer based on your requirements...\",\n",
    "#         \"Understood, you want a TSMP with Tg={tg} and Er={er}. We are now generating a polymer to meet these properties...\"\n",
    "#     ]\n",
    "    \n",
    "#     response_template = random.choice(response_templates)\n",
    "#     response = response_template.format(tg=tg, er=er)\n",
    "    \n",
    "#     return response\n",
    "\n",
    "# # Example user inputs\n",
    "# tg_input = 375\n",
    "# er_input = 180\n",
    "\n",
    "# # Generate response\n",
    "# response = process_dynamic_query(tg_input, er_input)\n",
    "# print(response)\n"
   ]
  },
  {
   "cell_type": "code",
   "execution_count": 2,
   "id": "4ea9f43e-a72f-4a1b-8870-f091ef3bfe54",
   "metadata": {},
   "outputs": [],
   "source": [
    "from openai import OpenAI\n",
    "client=OpenAI(api_key='sk-xda15eTImv62SYVb1eXw_2lOEvH7oRfCUFadCTgoEjT3BlbkFJHHPrtTsKyGtST8dcRBU3BZBSvcrW06fHTy9UP2wbMA')"
   ]
  },
  {
   "cell_type": "code",
   "execution_count": 2,
   "id": "4b201ae3-7026-4dfd-b28a-d165eb4e4e63",
   "metadata": {},
   "outputs": [
    {
     "name": "stdout",
     "output_type": "stream",
     "text": [
      "FileObject(id='file-ZKtZZVM34B5hxBfBxTsDFK5n', bytes=24754, created_at=1724711898, filename='train_polymer.jsonl', object='file', purpose='fine-tune', status='processed', status_details=None)\n"
     ]
    }
   ],
   "source": [
    "\n",
    "\n",
    "training_file=client.files.create(file=open('train_polymer.jsonl','rb'),\n",
    "                    purpose='fine-tune')\n",
    "print(training_file)"
   ]
  },
  {
   "cell_type": "code",
   "execution_count": 3,
   "id": "0e732fcf-979e-4813-ad00-f253497ddbf9",
   "metadata": {},
   "outputs": [
    {
     "name": "stdout",
     "output_type": "stream",
     "text": [
      "FileObject(id='file-S0zCJ4ekAGwAGFRG5yqDbLDz', bytes=111607, created_at=1724951739, filename='fine_tuning_dataset_formatted.jsonl', object='file', purpose='fine-tune', status='processed', status_details=None)\n"
     ]
    }
   ],
   "source": [
    "training_file=client.files.create(file=open('fine_tuning_dataset_formatted.jsonl','rb'),\n",
    "                    purpose='fine-tune')\n",
    "print(training_file)"
   ]
  },
  {
   "cell_type": "code",
   "execution_count": 3,
   "id": "6aba148f-27a0-4e8d-bebe-07963c2ad30d",
   "metadata": {},
   "outputs": [
    {
     "name": "stdout",
     "output_type": "stream",
     "text": [
      "FineTuningJob(id='ftjob-B8BHU1WeWzMu9TRXRE9FL9wa', created_at=1724711912, error=Error(code=None, message=None, param=None), fine_tuned_model=None, finished_at=None, hyperparameters=Hyperparameters(n_epochs='auto', batch_size='auto', learning_rate_multiplier='auto'), model='gpt-4o-mini-2024-07-18', object='fine_tuning.job', organization_id='org-AVOdG0yGREZO41elnVjY6u7y', result_files=[], seed=95498484, status='validating_files', trained_tokens=None, training_file='file-ZKtZZVM34B5hxBfBxTsDFK5n', validation_file=None, estimated_finish=None, integrations=[], user_provided_suffix=None)\n"
     ]
    }
   ],
   "source": [
    "response=client.fine_tuning.jobs.create(\n",
    "    training_file='file-ZKtZZVM34B5hxBfBxTsDFK5n',\n",
    "    model='gpt-4o-mini-2024-07-18')\n",
    "print(response) \n",
    "\n",
    "#gpt-3.5-turbo"
   ]
  },
  {
   "cell_type": "code",
   "execution_count": 4,
   "id": "8674493e-eb71-47e0-a9f2-a89b92a7922d",
   "metadata": {},
   "outputs": [
    {
     "name": "stdout",
     "output_type": "stream",
     "text": [
      "FineTuningJob(id='ftjob-qgvlftR9PBZFpSjV1rRV9Ow8', created_at=1724951757, error=Error(code=None, message=None, param=None), fine_tuned_model=None, finished_at=None, hyperparameters=Hyperparameters(n_epochs='auto', batch_size='auto', learning_rate_multiplier='auto'), model='gpt-4o-mini-2024-07-18', object='fine_tuning.job', organization_id='org-AVOdG0yGREZO41elnVjY6u7y', result_files=[], seed=1783184293, status='validating_files', trained_tokens=None, training_file='file-S0zCJ4ekAGwAGFRG5yqDbLDz', validation_file=None, estimated_finish=None, integrations=[], user_provided_suffix=None)\n"
     ]
    }
   ],
   "source": [
    "response=client.fine_tuning.jobs.create(\n",
    "    training_file='file-S0zCJ4ekAGwAGFRG5yqDbLDz',\n",
    "    model='gpt-4o-mini-2024-07-18')\n",
    "print(response) "
   ]
  },
  {
   "cell_type": "code",
   "execution_count": null,
   "id": "deb66f52-379b-4f08-9512-e3b3bcf0faac",
   "metadata": {},
   "outputs": [],
   "source": []
  },
  {
   "cell_type": "code",
   "execution_count": 155,
   "id": "7c40427d-58a5-4e55-9117-520fe7210cde",
   "metadata": {},
   "outputs": [],
   "source": [
    "#client.fine_tuning.jobs.list(limit=5)"
   ]
  },
  {
   "cell_type": "code",
   "execution_count": 14,
   "id": "f8b146ad-33e9-4284-aa0c-75f8c1749561",
   "metadata": {},
   "outputs": [
    {
     "data": {
      "text/plain": [
       "FineTuningJob(id='ftjob-B8BHU1WeWzMu9TRXRE9FL9wa', created_at=1724711912, error=Error(code=None, message=None, param=None), fine_tuned_model='ft:gpt-4o-mini-2024-07-18:personal::A0cocHsx', finished_at=1724712569, hyperparameters=Hyperparameters(n_epochs=3, batch_size=1, learning_rate_multiplier=1.8), model='gpt-4o-mini-2024-07-18', object='fine_tuning.job', organization_id='org-AVOdG0yGREZO41elnVjY6u7y', result_files=['file-1bckoMnxs5QkAJPZu92g15mg'], seed=95498484, status='succeeded', trained_tokens=15801, training_file='file-ZKtZZVM34B5hxBfBxTsDFK5n', validation_file=None, estimated_finish=None, integrations=[], user_provided_suffix=None)"
      ]
     },
     "execution_count": 14,
     "metadata": {},
     "output_type": "execute_result"
    }
   ],
   "source": [
    "# client.fine_tuning.jobs.list(limit=10)\n",
    "client.fine_tuning.jobs.retrieve('ftjob-B8BHU1WeWzMu9TRXRE9FL9wa')"
   ]
  },
  {
   "cell_type": "code",
   "execution_count": 7,
   "id": "4107c975-9f0d-4b8d-9587-a39b23abde9d",
   "metadata": {},
   "outputs": [
    {
     "data": {
      "text/plain": [
       "FineTuningJob(id='ftjob-qgvlftR9PBZFpSjV1rRV9Ow8', created_at=1724951757, error=Error(code=None, message=None, param=None), fine_tuned_model='ft:gpt-4o-mini-2024-07-18:personal::A1dAkNGH', finished_at=1724952268, hyperparameters=Hyperparameters(n_epochs=3, batch_size=1, learning_rate_multiplier=1.8), model='gpt-4o-mini-2024-07-18', object='fine_tuning.job', organization_id='org-AVOdG0yGREZO41elnVjY6u7y', result_files=['file-hOwh8PG17gGcjOGL86sWpBaD'], seed=1783184293, status='succeeded', trained_tokens=65208, training_file='file-S0zCJ4ekAGwAGFRG5yqDbLDz', validation_file=None, estimated_finish=None, integrations=[], user_provided_suffix=None)"
      ]
     },
     "execution_count": 7,
     "metadata": {},
     "output_type": "execute_result"
    }
   ],
   "source": [
    "client.fine_tuning.jobs.retrieve('ftjob-qgvlftR9PBZFpSjV1rRV9Ow8')"
   ]
  },
  {
   "cell_type": "code",
   "execution_count": 16,
   "id": "a5e87de9-6085-47d9-8ab0-8849dcb98fc7",
   "metadata": {},
   "outputs": [
    {
     "name": "stdout",
     "output_type": "stream",
     "text": [
      "ChatCompletionMessage(content='You need a TSMP with Tg=250 and Er=600. We are in the process of generating this polymer based on your requirements...', refusal=None, role='assistant', function_call=None, tool_calls=None)\n"
     ]
    }
   ],
   "source": [
    "completion= client.chat.completions.create(model='ft:gpt-4o-mini-2024-07-18:personal::A0cocHsx', messages=[\n",
    "    {\"role\": \"user\", \"content\": \"Please suggest a TSMP that has Tg=250 and Er=600?\"}] )\n",
    "print(completion.choices[0].message)"
   ]
  },
  {
   "cell_type": "code",
   "execution_count": 11,
   "id": "9a7fcb59-6f6d-4f68-81b6-cbbe21503cfc",
   "metadata": {},
   "outputs": [
    {
     "name": "stdout",
     "output_type": "stream",
     "text": [
      "ChatCompletionMessage(content='Available tools:\\n1. Name2SMILES: Converts a chemical name to its SMILES representation.\\n2. ReactionPlanner: Plans a chemical synthesis route for a given target molecule using its SMILES.\\n3. WebSearch: Searches the web for relevant information.\\n4. ReactionExecute: Executes a planned chemical synthesis on a robotic platform.\\n5. SafetyCheck: Checks if a chemical reaction or compound is safe to handle.\\n6. MoleculeSimilarity: Finds molecules similar to a given one based on structure.\\n7. PropertyPredictor: Predicts properties (e.g., boiling point, solubility) of a given molecule.', refusal=None, role='assistant', function_call=None, tool_calls=None)\n"
     ]
    }
   ],
   "source": [
    "completion= client.chat.completions.create(model='ft:gpt-4o-mini-2024-07-18:personal::A1dAkNGH', messages=[\n",
    "    {\"role\": \"user\", \"content\": \"Find molecules similar to Paracetamol that could serve as alternatives in Polymerization\"}] )\n",
    "print(completion.choices[0].message)"
   ]
  },
  {
   "cell_type": "code",
   "execution_count": 15,
   "id": "83b38763-5c54-4595-96f1-21ad72150485",
   "metadata": {},
   "outputs": [
    {
     "name": "stdout",
     "output_type": "stream",
     "text": [
      "ChatCompletionMessage(content='Sure, you need a TSMP with Tg=800 and Er=950. We are creating a new polymer to match your specifications...', refusal=None, role='assistant', function_call=None, tool_calls=None)\n"
     ]
    }
   ],
   "source": [
    "completion= client.chat.completions.create(model='ft:gpt-3.5-turbo-0125:personal::9u4nPwpl', messages=[\n",
    "    {\"role\": \"user\", \"content\": \"Please suggest a TSMP that has Tg=800 and Er=950?\"}] )\n",
    "print(completion.choices[0].message)"
   ]
  },
  {
   "cell_type": "code",
   "execution_count": 15,
   "id": "9d761f91-3121-473e-aedb-48f6900b0411",
   "metadata": {},
   "outputs": [
    {
     "name": "stdout",
     "output_type": "stream",
     "text": [
      "{'message': 'Sure, you need a TSMP with Tg=350 and Er=180. We are creating a new polymer to match your specifications...', 'Glass Transition Temperature': 350.0, 'Stress Recovery': 180.0}\n"
     ]
    }
   ],
   "source": [
    "import re\n",
    "def extract_parameters(text):\n",
    "    tg_pattern = r'(?:Tg|glass transition temperature)\\s*[:=]?\\s*(\\d+\\.?\\d*)'\n",
    "    er_pattern = r'(?:Er|recovery stress value)\\s*[:=]?\\s*(\\d+\\.?\\d*)'\n",
    "    \n",
    "    tg_match = re.search(tg_pattern, text, re.IGNORECASE)\n",
    "    tg_value = float(tg_match.group(1)) if tg_match else None\n",
    "    \n",
    "    er_match = re.search(er_pattern, text, re.IGNORECASE)\n",
    "    er_value = float(er_match.group(1)) if er_match else None\n",
    "    \n",
    "    return tg_value, er_value\n",
    "\n",
    "def process_query(query):\n",
    "    messages= [\n",
    "        {\n",
    "            \"role\": \"user\",\n",
    "            \"content\":query\n",
    "        }\n",
    "    ]\n",
    "    result= client.chat.completions.create(model='ft:gpt-3.5-turbo-0125:personal::9u4nPwpl', messages=messages,temperature=0, max_tokens=50 )\n",
    "    Tg,Er = extract_parameters(result.choices[0].message.content)\n",
    "    return {'message': result.choices[0].message.content, 'Glass Transition Temperature':Tg, 'Stress Recovery':Er}\n",
    "\n",
    "replies=process_query(\"Show me a TSMP which has glass tranistion temperature = 350 and Er=180\")\n",
    "print(replies)"
   ]
  },
  {
   "cell_type": "code",
   "execution_count": null,
   "id": "8a515eb8-da28-495d-85b1-790062593c9c",
   "metadata": {},
   "outputs": [],
   "source": []
  },
  {
   "cell_type": "code",
   "execution_count": null,
   "id": "11cfdc19-b129-4d87-a250-2c98678e5136",
   "metadata": {},
   "outputs": [],
   "source": []
  },
  {
   "cell_type": "code",
   "execution_count": null,
   "id": "a897da66-3ae6-438f-a65f-5b2952e644b2",
   "metadata": {},
   "outputs": [],
   "source": []
  },
  {
   "cell_type": "code",
   "execution_count": 156,
   "id": "c3c7ee76-3584-44ab-b819-f8561ff4a024",
   "metadata": {},
   "outputs": [
    {
     "name": "stdout",
     "output_type": "stream",
     "text": [
      "file-HSLeU8hPMiDdZXHKdbW06ZtB\n",
      "FineTuningJob(id='ftjob-OHf4Araxdhn53SkHUE95vUSu', created_at=1723157756, error=Error(code=None, message=None, param=None), fine_tuned_model=None, finished_at=None, hyperparameters=Hyperparameters(n_epochs='auto', batch_size='auto', learning_rate_multiplier='auto'), model='gpt-3.5-turbo-0125', object='fine_tuning.job', organization_id='org-AVOdG0yGREZO41elnVjY6u7y', result_files=[], seed=1251353274, status='validating_files', trained_tokens=None, training_file='file-HSLeU8hPMiDdZXHKdbW06ZtB', validation_file=None, estimated_finish=None, integrations=[], user_provided_suffix=None)\n"
     ]
    },
    {
     "data": {
      "text/plain": [
       "FineTuningJob(id='ftjob-OHf4Araxdhn53SkHUE95vUSu', created_at=1723157756, error=Error(code=None, message=None, param=None), fine_tuned_model=None, finished_at=None, hyperparameters=Hyperparameters(n_epochs='auto', batch_size='auto', learning_rate_multiplier='auto'), model='gpt-3.5-turbo-0125', object='fine_tuning.job', organization_id='org-AVOdG0yGREZO41elnVjY6u7y', result_files=[], seed=1251353274, status='validating_files', trained_tokens=None, training_file='file-HSLeU8hPMiDdZXHKdbW06ZtB', validation_file=None, estimated_finish=None, integrations=[], user_provided_suffix=None)"
      ]
     },
     "execution_count": 156,
     "metadata": {},
     "output_type": "execute_result"
    }
   ],
   "source": [
    "client=OpenAI(api_key='sk-xda15eTImv62SYVb1eXw_2lOEvH7oRfCUFadCTgoEjT3BlbkFJHHPrtTsKyGtST8dcRBU3BZBSvcrW06fHTy9UP2wbMA')\n",
    "smile_file=client.files.create(file=open('smile_with_tg_er.jsonl','rb'),\n",
    "                    purpose='fine-tune')\n",
    "print(smile_file.id)\n",
    "response=client.fine_tuning.jobs.create(\n",
    "    training_file=smile_file.id,\n",
    "    model='gpt-3.5-turbo')\n",
    "print(response)  "
   ]
  },
  {
   "cell_type": "code",
   "execution_count": 167,
   "id": "f1ae6ee3-ebb8-4a59-b277-b62f988ea31e",
   "metadata": {},
   "outputs": [
    {
     "data": {
      "text/plain": [
       "FineTuningJob(id='ftjob-OHf4Araxdhn53SkHUE95vUSu', created_at=1723157756, error=Error(code=None, message=None, param=None), fine_tuned_model='ft:gpt-3.5-turbo-0125:personal::9u6jVxRw', finished_at=1723159275, hyperparameters=Hyperparameters(n_epochs=3, batch_size=1, learning_rate_multiplier=2), model='gpt-3.5-turbo-0125', object='fine_tuning.job', organization_id='org-AVOdG0yGREZO41elnVjY6u7y', result_files=['file-LmT0vBhkGNNUDdjb71oSgs4b'], seed=1251353274, status='succeeded', trained_tokens=66522, training_file='file-HSLeU8hPMiDdZXHKdbW06ZtB', validation_file=None, estimated_finish=None, integrations=[], user_provided_suffix=None)"
      ]
     },
     "execution_count": 167,
     "metadata": {},
     "output_type": "execute_result"
    }
   ],
   "source": [
    "client.fine_tuning.jobs.retrieve(response.id)"
   ]
  },
  {
   "cell_type": "code",
   "execution_count": 17,
   "id": "5a35fe8b-9bd4-4fc7-9981-4236f72b53a7",
   "metadata": {},
   "outputs": [
    {
     "name": "stdout",
     "output_type": "stream",
     "text": [
      "{'message': 'c3cc(N(CC1CC1)CC2CO2)ccc3N(CC4CO4)CC5(Cc6ccc7OCN(O)Cc7c6)CC5CC8CO8,CC(C)(c3ccccc3)c2cc(C(=O)OCC1CO1)ccc2O4,CCCCCCCCCN'}\n"
     ]
    }
   ],
   "source": [
    "def process_query(query):\n",
    "    messages= [\n",
    "        {\n",
    "            \"role\": \"user\",\n",
    "            \"content\":query\n",
    "        }\n",
    "    ]\n",
    "    result= client.chat.completions.create(model='ft:gpt-3.5-turbo-0125:personal::9u6jVxRw', messages=messages )\n",
    "    #Tg,Er = extract_parameters(result.choices[0].message.content)\n",
    "    return {'message': result.choices[0].message.content}\n",
    "\n",
    "replies=process_query(\"Tg: 350 and Er: 350\")\n",
    "print(replies)"
   ]
  },
  {
   "cell_type": "code",
   "execution_count": 1,
   "id": "f535b241-16f3-424a-9087-9dda2f89bb1d",
   "metadata": {},
   "outputs": [],
   "source": [
    "nlp_data=[{\n",
    "    \"Query\": \"Can you suggest a polymer with Tg=400 and Er=100?\",\n",
    "    \"Response\": \"Understood, you want a TSMP with Tg=400 and Er=100. We are now generating a polymer to meet these properties...\"\n",
    " },\n",
    " {\n",
    "    \"Query\": \"I need a polymer with a Tg of 350 and Er of 150.\",\n",
    "    \"Response\": \"You need a TSMP with Tg=350 and Er=150. We are in the process of generating this polymer based on your requirements...\"\n",
    " },\n",
    " {\n",
    "    \"Query\": \"Suggest a TSMP with Tg=300 and Er=200.\",\n",
    "    \"Response\": \"Understood, you want a TSMP with Tg=300 and Er=200. We are now generating a polymer to meet these properties...\"\n",
    " },\n",
    " {\n",
    "    \"Query\": \"Can you suggest a polymer with Tg=250 and Er=150?\",\n",
    "    \"Response\": \"Got it, you're looking for a TSMP with Tg=250 and Er=150. We're working on generating a suitable polymer for you...\"\n",
    " },\n",
    " {\n",
    "    \"Query\": \"I need a polymer with a Tg of 150 and Er of 50.\",\n",
    "    \"Response\": \"Got it, you're looking for a TSMP with Tg=150 and Er=50. We're working on generating a suitable polymer for you...\"\n",
    " },\n",
    " {\n",
    "    \"Query\": \"I need a polymer with a Tg of 350 and Er of 50.\",\n",
    "    \"Response\": \"You need a TSMP with Tg=350 and Er=50. We are in the process of generating this polymer based on your requirements...\"\n",
    " },\n",
    " {\n",
    "    \"Query\": \"Suggest a TSMP with Tg=200 and Er=150.\",\n",
    "    \"Response\": \"Understood, you want a TSMP with Tg=200 and Er=150. We are now generating a polymer to meet these properties...\"\n",
    " },\n",
    " {\n",
    "    \"Query\": \"Suggest a TSMP with Tg=200 and Er=150.\",\n",
    "    \"Response\": \"Okay, you want a TSMP which has Tg=200 and Er=150. We are trying to generate a new TSMP based on your input...\"\n",
    " },\n",
    " {\n",
    "    \"Query\": \"Suggest a TSMP with Tg=350 and Er=150.\",\n",
    "    \"Response\": \"Got it, you're looking for a TSMP with Tg=350 and Er=150. We're working on generating a suitable polymer for you...\"\n",
    " },\n",
    " {\n",
    "    \"Query\": \"What polymer can I use if I need Tg around 400 and Er of 100?\",\n",
    "    \"Response\": \"Got it, you're looking for a TSMP with Tg=400 and Er=100. We're working on generating a suitable polymer for you...\"\n",
    " },\n",
    " {\n",
    "    \"Query\": \"Can you suggest a polymer with Tg=150 and Er=200?\",\n",
    "    \"Response\": \"Sure, you need a TSMP with Tg=150 and Er=200. We are creating a new polymer to match your specifications...\"\n",
    " },\n",
    " {\n",
    "    \"Query\": \"Suggest a TSMP with Tg=200 and Er=50.\",\n",
    "    \"Response\": \"You need a TSMP with Tg=200 and Er=50. We are in the process of generating this polymer based on your requirements...\"\n",
    " },\n",
    " {\n",
    "    \"Query\": \"Please give me a possible TSMP with Tg=400 and Er=50.\",\n",
    "    \"Response\": \"Okay, you want a TSMP which has Tg=400 and Er=50. We are trying to generate a new TSMP based on your input...\"\n",
    " },\n",
    " {\n",
    "    \"Query\": \"I need a polymer with a Tg of 200 and Er of 100.\",\n",
    "    \"Response\": \"Sure, you need a TSMP with Tg=200 and Er=100. We are creating a new polymer to match your specifications...\"\n",
    " },\n",
    " {\n",
    "    \"Query\": \"I need a polymer with a Tg of 400 and Er of 200.\",\n",
    "    \"Response\": \"Okay, you want a TSMP which has Tg=400 and Er=200. We are trying to generate a new TSMP based on your input...\"\n",
    " },\n",
    " {\n",
    "    \"Query\": \"What polymer can I use if I need Tg around 250 and Er of 150?\",\n",
    "    \"Response\": \"Sure, you need a TSMP with Tg=250 and Er=150. We are creating a new polymer to match your specifications...\"\n",
    " },\n",
    " {\n",
    "    \"Query\": \"Suggest a TSMP with Tg=150 and Er=100.\",\n",
    "    \"Response\": \"Okay, you want a TSMP which has Tg=150 and Er=100. We are trying to generate a new TSMP based on your input...\"\n",
    " },\n",
    " {\n",
    "    \"Query\": \"I need a polymer with a Tg of 350 and Er of 200.\",\n",
    "    \"Response\": \"You need a TSMP with Tg=350 and Er=200. We are in the process of generating this polymer based on your requirements...\"\n",
    " },\n",
    " {\n",
    "    \"Query\": \"What polymer can I use if I need Tg around 200 and Er of 50?\",\n",
    "    \"Response\": \"Sure, you need a TSMP with Tg=200 and Er=50. We are creating a new polymer to match your specifications...\"\n",
    " },\n",
    "  {\n",
    "    \"Query\": \"I need a polymer with a Tg of 400 and Er of 150.\",\n",
    "    \"Response\": \"Got it, you're looking for a TSMP with Tg=400 and Er=150. We're working on generating a suitable polymer for you...\"\n",
    "  },\n",
    "  {\n",
    "    \"Query\": \"I need a polymer with a Tg of 200 and Er of 150.\",\n",
    "    \"Response\": \"Sure, you need a TSMP with Tg=200 and Er=150. We are creating a new polymer to match your specifications...\"\n",
    "  },\n",
    "  {\n",
    "    \"Query\": \"Can you suggest a polymer with Tg=250 and Er=150?\",\n",
    "    \"Response\": \"Understood, you want a TSMP with Tg=250 and Er=150. We are now generating a polymer to meet these properties...\"\n",
    "  },\n",
    "  {\n",
    "    \"Query\": \"Suggest a TSMP with Tg=300 and Er=200.\",\n",
    "    \"Response\": \"You need a TSMP with Tg=300 and Er=200. We are in the process of generating this polymer based on your requirements...\"\n",
    "  },\n",
    "  {\n",
    "    \"Query\": \"Can you suggest a polymer with Tg=200 and Er=150?\",\n",
    "    \"Response\": \"Got it, you're looking for a TSMP with Tg=200 and Er=150. We're working on generating a suitable polymer for you...\"\n",
    "  },\n",
    "  {\n",
    "    \"Query\": \"Suggest a TSMP with Tg=200 and Er=50.\",\n",
    "    \"Response\": \"Understood, you want a TSMP with Tg=200 and Er=50. We are now generating a polymer to meet these properties...\"\n",
    "  },\n",
    "  {\n",
    "    \"Query\": \"Please give me a possible TSMP with Tg=250 and Er=200.\",\n",
    "    \"Response\": \"You need a TSMP with Tg=250 and Er=200. We are in the process of generating this polymer based on your requirements...\"\n",
    "  },\n",
    "  {\n",
    "    \"Query\": \"Please give me a possible TSMP with Tg=150 and Er=50.\",\n",
    "    \"Response\": \"You need a TSMP with Tg=150 and Er=50. We are in the process of generating this polymer based on your requirements...\"\n",
    "  },\n",
    "  {\n",
    "    \"Query\": \"Suggest a TSMP with Tg=150 and Er=100.\",\n",
    "    \"Response\": \"You need a TSMP with Tg=150 and Er=100. We are in the process of generating this polymer based on your requirements...\"\n",
    "  },\n",
    "  {\n",
    "    \"Query\": \"Can you suggest a polymer with Tg=300 and Er=150?\",\n",
    "    \"Response\": \"Sure, you need a TSMP with Tg=300 and Er=150. We are creating a new polymer to match your specifications...\"\n",
    "  },\n",
    "  {\n",
    "    \"Query\": \"Can you suggest a polymer with Tg=350 and Er=150?\",\n",
    "    \"Response\": \"Okay, you want a TSMP which has Tg=350 and Er=150. We are trying to generate a new TSMP based on your input...\"\n",
    "  },\n",
    "  {\n",
    "    \"Query\": \"Suggest a TSMP with Tg=150 and Er=100.\",\n",
    "    \"Response\": \"Understood, you want a TSMP with Tg=150 and Er=100. We are now generating a polymer to meet these properties...\"\n",
    "  },\n",
    "  {\n",
    "    \"Query\": \"Can you suggest a polymer with Tg=400 and Er=50?\",\n",
    "    \"Response\": \"Sure, you need a TSMP with Tg=400 and Er=50. We are creating a new polymer to match your specifications...\"\n",
    "  },\n",
    "  {\n",
    "    \"Query\": \"What polymer can I use if I need Tg around 200 and Er of 150?\",\n",
    "    \"Response\": \"You need a TSMP with Tg=200 and Er=150. We are in the process of generating this polymer based on your requirements...\"\n",
    "  },\n",
    "  {\n",
    "    \"Query\": \"Suggest a TSMP with Tg=400 and Er=200.\",\n",
    "    \"Response\": \"Sure, you need a TSMP with Tg=400 and Er=200. We are creating a new polymer to match your specifications...\"\n",
    "  },\n",
    "  {\n",
    "    \"Query\": \"Can you suggest a polymer with Tg=300 and Er=50?\",\n",
    "    \"Response\": \"You need a TSMP with Tg=300 and Er=50. We are in the process of generating this polymer based on your requirements...\"\n",
    "  },\n",
    "  {\n",
    "    \"Query\": \"I need a polymer with a Tg of 250 and Er of 150.\",\n",
    "    \"Response\": \"Sure, you need a TSMP with Tg=250 and Er=150. We are creating a new polymer to match your specifications...\"\n",
    "  },\n",
    "  {\n",
    "    \"Query\": \"What polymer can I use if I need Tg around 250 and Er of 150?\",\n",
    "    \"Response\": \"Okay, you want a TSMP which has Tg=250 and Er=150. We are trying to generate a new TSMP based on your input...\"\n",
    "  },\n",
    "  {\n",
    "    \"Query\": \"I need a polymer with a Tg of 200 and Er of 150.\",\n",
    "    \"Response\": \"Understood, you want a TSMP with Tg=200 and Er=150. We are now generating a polymer to meet these properties...\"\n",
    "  },\n",
    "  {\n",
    "    \"Query\": \"What polymer can I use if I need Tg around 250 and Er of 100?\",\n",
    "    \"Response\": \"Okay, you want a TSMP which has Tg=250 and Er=100. We are trying to generate a new TSMP based on your input...\"\n",
    "  },\n",
    "  {\n",
    "    \"Query\": \"Can you suggest a polymer with Tg=150 and Er=200?\",\n",
    "    \"Response\": \"You need a TSMP with Tg=150 and Er=200. We are in the process of generating this polymer based on your requirements...\"\n",
    "  },\n",
    "  {\n",
    "    \"Query\": \"I need a polymer with a Tg of 150 and Er of 150.\",\n",
    "    \"Response\": \"You need a TSMP with Tg=150 and Er=150. We are in the process of generating this polymer based on your requirements...\"\n",
    "  },\n",
    "  {\n",
    "    \"Query\": \"Can you suggest a polymer with Tg=150 and Er=100?\",\n",
    "    \"Response\": \"Okay, you want a TSMP which has Tg=150 and Er=100. We are trying to generate a new TSMP based on your input...\"\n",
    "  },\n",
    "  {\n",
    "    \"Query\": \"I need a polymer with a Tg of 350 and Er of 100.\",\n",
    "    \"Response\": \"Okay, you want a TSMP which has Tg=350 and Er=100. We are trying to generate a new TSMP based on your input...\"\n",
    "  },\n",
    "  {\n",
    "    \"Query\": \"I need a polymer with a Tg of 300 and Er of 200.\",\n",
    "    \"Response\": \"Sure, you need a TSMP with Tg=300 and Er=200. We are creating a new polymer to match your specifications...\"\n",
    "  },\n",
    "  {\n",
    "    \"Query\": \"Please give me a possible TSMP with Tg=300 and Er=200.\",\n",
    "    \"Response\": \"Understood, you want a TSMP with Tg=300 and Er=200. We are now generating a polymer to meet these properties...\"\n",
    "  },\n",
    "  {\n",
    "    \"Query\": \"I need a polymer with a Tg of 300 and Er of 50.\",\n",
    "    \"Response\": \"Understood, you want a TSMP with Tg=300 and Er=50. We are now generating a polymer to meet these properties...\"\n",
    "  },\n",
    "  {\n",
    "    \"Query\": \"I need a polymer with a Tg of 300 and Er of 200.\",\n",
    "    \"Response\": \"Sure, you need a TSMP with Tg=300 and Er=200. We are creating a new polymer to match your specifications...\"\n",
    "  },\n",
    "  {\n",
    "    \"Query\": \"What polymer can I use if I need Tg around 400 and Er of 100?\",\n",
    "    \"Response\": \"Got it, you're looking for a TSMP with Tg=400 and Er=100. We're working on generating a suitable polymer for you...\"\n",
    "  },\n",
    "  {\n",
    "    \"Query\": \"Suggest a TSMP with Tg=350 and Er=50.\",\n",
    "    \"Response\": \"You need a TSMP with Tg=350 and Er=50. We are in the process of generating this polymer based on your requirements...\"\n",
    "  },\n",
    "  {\n",
    "    \"Query\": \"I need a polymer with a Tg of 150 and Er of 100.\",\n",
    "    \"Response\": \"Got it, you're looking for a TSMP with Tg=150 and Er=100. We're working on generating a suitable polymer for you...\"\n",
    "  },\n",
    "  {\n",
    "    \"Query\": \"Can you suggest a polymer with Tg=250 and Er=50?\",\n",
    "    \"Response\": \"Okay, you want a TSMP which has Tg=250 and Er=50. We are trying to generate a new TSMP based on your input...\"\n",
    "  },\n",
    "  {\n",
    "    \"Query\": \"I need a polymer with a Tg of 350 and Er of 150.\",\n",
    "    \"Response\": \"Got it, you're looking for a TSMP with Tg=350 and Er=150. We're working on generating a suitable polymer for you...\"\n",
    "  },\n",
    "  {\n",
    "    \"Query\": \"Please give me a possible TSMP with Tg=250 and Er=150.\",\n",
    "    \"Response\": \"Okay, you want a TSMP which has Tg=250 and Er=150. We are trying to generate a new TSMP based on your input...\"\n",
    "  },\n",
    "  {\n",
    "    \"Query\": \"Can you suggest a polymer with Tg=400 and Er=150?\",\n",
    "    \"Response\": \"Sure, you need a TSMP with Tg=400 and Er=150. We are creating a new polymer to match your specifications...\"\n",
    "  },\n",
    "  {\n",
    "    \"Query\": \"I need a polymer with a Tg of 150 and Er of 50.\",\n",
    "    \"Response\": \"Sure, you need a TSMP with Tg=150 and Er=50. We are creating a new polymer to match your specifications...\"\n",
    "  },\n",
    "  {\n",
    "    \"Query\": \"I need a polymer with a Tg of 350 and Er of 200.\",\n",
    "    \"Response\": \"Understood, you want a TSMP with Tg=350 and Er=200. We are now generating a polymer to meet these properties...\"\n",
    "  },\n",
    "  {\n",
    "    \"Query\": \"What polymer can I use if I need Tg around 150 and Er of 50?\",\n",
    "    \"Response\": \"Sure, you need a TSMP with Tg=150 and Er=50. We are creating a new polymer to match your specifications...\"\n",
    "  },\n",
    "  {\n",
    "    \"Query\": \"Can you suggest a polymer with Tg=250 and Er=100?\",\n",
    "    \"Response\": \"Got it, you're looking for a TSMP with Tg=250 and Er=100. We're working on generating a suitable polymer for you...\"\n",
    "  },\n",
    "  {\n",
    "    \"Query\": \"Please give me a possible TSMP with Tg=200 and Er=200.\",\n",
    "    \"Response\": \"Sure, you need a TSMP with Tg=200 and Er=200. We are creating a new polymer to match your specifications...\"\n",
    "  },\n",
    "  {\n",
    "    \"Query\": \"Suggest a TSMP with Tg=250 and Er=150.\",\n",
    "    \"Response\": \"Sure, you need a TSMP with Tg=250 and Er=150. We are creating a new polymer to match your specifications...\"\n",
    "  },\n",
    "  {\n",
    "    \"Query\": \"Please give me a possible TSMP with Tg=150 and Er=200.\",\n",
    "    \"Response\": \"Understood, you want a TSMP with Tg=150 and Er=200. We are now generating a polymer to meet these properties...\"\n",
    "  },\n",
    "  {\n",
    "    \"Query\": \"Please give me a possible TSMP with Tg=350 and Er=150.\",\n",
    "    \"Response\": \"You need a TSMP with Tg=350 and Er=150. We are in the process of generating this polymer based on your requirements...\"\n",
    "  },\n",
    "  {\n",
    "    \"Query\": \"What polymer can I use if I need Tg around 300 and Er of 100?\",\n",
    "    \"Response\": \"Sure, you need a TSMP with Tg=300 and Er=100. We are creating a new polymer to match your specifications...\"\n",
    "  },\n",
    "  {\n",
    "    \"Query\": \"Can you suggest a polymer with Tg=400 and Er=100?\",\n",
    "    \"Response\": \"Got it, you're looking for a TSMP with Tg=400 and Er=100. We're working on generating a suitable polymer for you...\"\n",
    "  },\n",
    "  {\n",
    "    \"Query\": \"Please give me a possible TSMP with Tg=300 and Er=100.\",\n",
    "    \"Response\": \"Okay, you want a TSMP which has Tg=300 and Er=100. We are trying to generate a new TSMP based on your input...\"\n",
    "  },\n",
    "  {\n",
    "    \"Query\": \"What polymer can I use if I need Tg around 200 and Er of 50?\",\n",
    "    \"Response\": \"Okay, you want a TSMP which has Tg=200 and Er=50. We are trying to generate a new TSMP based on your input...\"\n",
    "  },\n",
    "  {\n",
    "    \"Query\": \"What polymer can I use if I need Tg around 150 and Er of 100?\",\n",
    "    \"Response\": \"Sure, you need a TSMP with Tg=150 and Er=100. We are creating a new polymer to match your specifications...\"\n",
    "  },\n",
    "  {\n",
    "    \"Query\": \"Suggest a TSMP with Tg=250 and Er=200.\",\n",
    "    \"Response\": \"Sure, you need a TSMP with Tg=250 and Er=200. We are creating a new polymer to match your specifications...\"\n",
    "  },\n",
    "  {\n",
    "    \"Query\": \"I need a polymer with a Tg of 350 and Er of 150.\",\n",
    "    \"Response\": \"Okay, you want a TSMP which has Tg=350 and Er=150. We are trying to generate a new TSMP based on your input...\"\n",
    "  },\n",
    "  {\n",
    "    \"Query\": \"I need a polymer with a Tg of 150 and Er of 200.\",\n",
    "    \"Response\": \"Okay, you want a TSMP which has Tg=150 and Er=200. We are trying to generate a new TSMP based on your input...\"\n",
    "  },\n",
    "  {\n",
    "    \"Query\": \"Please give me a possible TSMP with Tg=300 and Er=100.\",\n",
    "    \"Response\": \"Sure, you need a TSMP with Tg=300 and Er=100. We are creating a new polymer to match your specifications...\"\n",
    "  },\n",
    "  {\n",
    "    \"Query\": \"What polymer can I use if I need Tg around 150 and Er of 200?\",\n",
    "    \"Response\": \"Got it, you're looking for a TSMP with Tg=150 and Er=200. We're working on generating a suitable polymer for you...\"\n",
    "  },\n",
    "  {\n",
    "    \"Query\": \"Suggest a TSMP with Tg=250 and Er=50.\",\n",
    "    \"Response\": \"Okay, you want a TSMP which has Tg=250 and Er=50. We are trying to generate a new TSMP based on your input...\"\n",
    "  },\n",
    "  {\n",
    "    \"Query\": \"I need a polymer with a Tg of 350 and Er of 200.\",\n",
    "    \"Response\": \"Sure, you need a TSMP with Tg=350 and Er=200. We are creating a new polymer to match your specifications...\"\n",
    "  },\n",
    "  {\n",
    "    \"Query\": \"Please give me a possible TSMP with Tg=400 and Er=100.\",\n",
    "    \"Response\": \"You need a TSMP with Tg=400 and Er=100. We are in the process of generating this polymer based on your requirements...\"\n",
    "  },\n",
    "  {\n",
    "    \"Query\": \"Can you suggest a polymer with Tg=200 and Er=50?\",\n",
    "    \"Response\": \"Okay, you want a TSMP which has Tg=200 and Er=50. We are trying to generate a new TSMP based on your input...\"\n",
    "  },\n",
    "  {\n",
    "    \"Query\": \"Can you suggest a polymer with Tg=150 and Er=50?\",\n",
    "    \"Response\": \"Sure, you need a TSMP with Tg=150 and Er=50. We are creating a new polymer to match your specifications...\"\n",
    "  },\n",
    "  {\n",
    "    \"Query\": \"What polymer can I use if I need Tg around 150 and Er of 200?\",\n",
    "    \"Response\": \"Got it, you're looking for a TSMP with Tg=150 and Er=200. We're working on generating a suitable polymer for you...\"\n",
    "  },\n",
    "  {\n",
    "    \"Query\": \"Can you suggest a polymer with Tg=150 and Er=200?\",\n",
    "    \"Response\": \"Sure, you need a TSMP with Tg=150 and Er=200. We are creating a new polymer to match your specifications...\"\n",
    "  },\n",
    "  {\n",
    "    \"Query\": \"I need a polymer with a Tg of 400 and Er of 100.\",\n",
    "    \"Response\": \"Okay, you want a TSMP which has Tg=400 and Er=100. We are trying to generate a new TSMP based on your input...\"\n",
    "  },\n",
    "  {\n",
    "    \"Query\": \"Please give me a possible TSMP with Tg=350 and Er=100.\",\n",
    "    \"Response\": \"Understood, you want a TSMP with Tg=350 and Er=100. We are now generating a polymer to meet these properties...\"\n",
    "  },\n",
    "  {\n",
    "    \"Query\": \"Can you suggest a polymer with Tg=300 and Er=150?\",\n",
    "    \"Response\": \"Got it, you're looking for a TSMP with Tg=300 and Er=150. We're working on generating a suitable polymer for you...\"\n",
    "  },\n",
    "  {\n",
    "    \"Query\": \"What polymer can I use if I need Tg around 250 and Er of 100?\",\n",
    "    \"Response\": \"Sure, you need a TSMP with Tg=250 and Er=100. We are creating a new polymer to match your specifications...\"\n",
    "  },\n",
    "  {\n",
    "    \"Query\": \"Suggest a TSMP with Tg=250 and Er=150.\",\n",
    "    \"Response\": \"Sure, you need a TSMP with Tg=250 and Er=150. We are creating a new polymer to match your specifications...\"\n",
    "  },\n",
    "  {\n",
    "    \"Query\": \"I need a polymer with a Tg of 200 and Er of 200.\",\n",
    "    \"Response\": \"Okay, you want a TSMP which has Tg=200 and Er=200. We are trying to generate a new TSMP based on your input...\"\n",
    "  },\n",
    "  {\n",
    "    \"Query\": \"Can you suggest a polymer with Tg=400 and Er=150?\",\n",
    "    \"Response\": \"Got it, you're looking for a TSMP with Tg=400 and Er=150. We're working on generating a suitable polymer for you...\"\n",
    "  },\n",
    "  {\n",
    "    \"Query\": \"What polymer can I use if I need Tg around 350 and Er of 200?\",\n",
    "    \"Response\": \"Understood, you want a TSMP with Tg=350 and Er=200. We are now generating a polymer to meet these properties...\"\n",
    "  },\n",
    "  {\n",
    "    \"Query\": \"Please give me a possible TSMP with Tg=150 and Er=100.\",\n",
    "    \"Response\": \"You need a TSMP with Tg=150 and Er=100. We are in the process of generating this polymer based on your requirements...\"\n",
    "  },\n",
    "  {\n",
    "    \"Query\": \"I need a polymer with a Tg of 300 and Er of 150.\",\n",
    "    \"Response\": \"Got it, you're looking for a TSMP with Tg=300 and Er=150. We're working on generating a suitable polymer for you...\"\n",
    "  },\n",
    "  {\n",
    "    \"Query\": \"Please give me a possible TSMP with Tg=200 and Er=150.\",\n",
    "    \"Response\": \"Understood, you want a TSMP with Tg=200 and Er=150. We are now generating a polymer to meet these properties...\"\n",
    "  },\n",
    "  {\n",
    "    \"Query\": \"Can you suggest a polymer with Tg=150 and Er=150?\",\n",
    "    \"Response\": \"Got it, you're looking for a TSMP with Tg=150 and Er=150. We're working on generating a suitable polymer for you...\"\n",
    "  },\n",
    "  {\n",
    "    \"Query\": \"What polymer can I use if I need Tg around 250 and Er of 100?\",\n",
    "    \"Response\": \"Sure, you need a TSMP with Tg=250 and Er=100. We are creating a new polymer to match your specifications...\"\n",
    "  },\n",
    "  {\n",
    "    \"Query\": \"Please give me a possible TSMP with Tg=350 and Er=50.\",\n",
    "    \"Response\": \"Got it, you're looking for a TSMP with Tg=350 and Er=50. We're working on generating a suitable polymer for you...\"\n",
    "  },\n",
    "  {\n",
    "    \"Query\": \"Suggest a TSMP with Tg=400 and Er=50.\",\n",
    "    \"Response\": \"Okay, you want a TSMP which has Tg=400 and Er=50. We are trying to generate a new TSMP based on your input...\"\n",
    "  },\n",
    "  {\n",
    "    \"Query\": \"Can you suggest a polymer with Tg=400 and Er=50?\",\n",
    "    \"Response\": \"Okay, you want a TSMP which has Tg=400 and Er=50. We are trying to generate a new TSMP based on your input...\"\n",
    "  },\n",
    "  {\n",
    "    \"Query\": \"Suggest a TSMP with Tg=350 and Er=100.\",\n",
    "    \"Response\": \"Understood, you want a TSMP with Tg=350 and Er=100. We are now generating a polymer to meet these properties...\"\n",
    "  },\n",
    "  {\n",
    "    \"Query\": \"Can you suggest a polymer with Tg=200 and Er=150?\",\n",
    "    \"Response\": \"Got it, you're looking for a TSMP with Tg=200 and Er=150. We're working on generating a suitable polymer for you...\"\n",
    "  },\n",
    "  {\n",
    "    \"Query\": \"I need a polymer with a Tg of 150 and Er of 150.\",\n",
    "    \"Response\": \"Got it, you're looking for a TSMP with Tg=150 and Er=150. We're working on generating a suitable polymer for you...\"\n",
    "  },\n",
    "  {\n",
    "    \"Query\": \"Suggest a TSMP with Tg=200 and Er=200.\",\n",
    "    \"Response\": \"Okay, you want a TSMP which has Tg=200 and Er=200. We are trying to generate a new TSMP based on your input...\"\n",
    "  },\n",
    "  {\n",
    "    \"Query\": \"Can you suggest a polymer with Tg=200 and Er=50?\",\n",
    "    \"Response\": \"Understood, you want a TSMP with Tg=200 and Er=50. We are now generating a polymer to meet these properties...\"\n",
    "  }]\n",
    "\n",
    "def convert_to_gpt35_format():\n",
    "    fine_tuning_data = []\n",
    "    for data in nlp_data:\n",
    "        fine_tuning_data.append({\n",
    "            \"prompt\": data['Query'],\n",
    "            \"responses\": data['Response'] \n",
    "        })\n",
    "    return fine_tuning_data\n",
    "converted_data = convert_to_gpt35_format()\n",
    "\n",
    "  "
   ]
  },
  {
   "cell_type": "code",
   "execution_count": 3,
   "id": "e283023e-2cbe-4f8f-85be-8db6012230eb",
   "metadata": {},
   "outputs": [],
   "source": [
    "import json\n",
    "def write_to_jsonl(data, file_path):\n",
    "    with open(file_path, 'w') as file:\n",
    "        for entry in data:\n",
    "            json.dump(entry, file)\n",
    "            file.write('\\n')\n",
    "\n",
    "\n",
    "training_file_name = \"fine_tune_data.json\"\n",
    "validation_file_name = \"val.jsonl\"\n",
    "\n",
    "write_to_jsonl(converted_data, training_file_name)"
   ]
  },
  {
   "cell_type": "code",
   "execution_count": null,
   "id": "11b445de-7072-44aa-9d0b-cb742bce5e6c",
   "metadata": {},
   "outputs": [],
   "source": []
  }
 ],
 "metadata": {
  "kernelspec": {
   "display_name": "Python 3 (ipykernel)",
   "language": "python",
   "name": "python3"
  },
  "language_info": {
   "codemirror_mode": {
    "name": "ipython",
    "version": 3
   },
   "file_extension": ".py",
   "mimetype": "text/x-python",
   "name": "python",
   "nbconvert_exporter": "python",
   "pygments_lexer": "ipython3",
   "version": "3.11.0"
  }
 },
 "nbformat": 4,
 "nbformat_minor": 5
}
